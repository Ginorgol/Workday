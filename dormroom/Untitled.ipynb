{
 "cells": [
  {
   "cell_type": "code",
   "execution_count": 24,
   "metadata": {},
   "outputs": [
    {
     "name": "stdout",
     "output_type": "stream",
     "text": [
      "{'query': 'give me permission for sql', 'topScoringIntent': {'intent': 'accessRequest', 'score': 0.6709933}, 'entities': []}\n"
     ]
    }
   ],
   "source": [
    "########### Python 3.6 #############\n",
    "import requests\n",
    "\n",
    "headers = {\n",
    "    # Request headers\n",
    "    'Ocp-Apim-Subscription-Key': 'c73d131cc4c549c98b36da03198e35c3',\n",
    "}\n",
    "\n",
    "params ={\n",
    "    # Query parameter\n",
    "    'q': 'give me permission for sql',\n",
    "    # Optional request parameters, set to default values\n",
    "    'timezoneOffset': '0',\n",
    "    'verbose': 'false',\n",
    "    'spellCheck': 'false',\n",
    "    'staging': 'false',\n",
    "}\n",
    "\n",
    "try:\n",
    "    r = requests.get('https://westus.api.cognitive.microsoft.com/luis/v2.0/apps/f0f4c7c2-c8cf-4136-aa6a-7c96a8e8d34b',headers=headers, params=params)\n",
    "    print(r.json())\n",
    "\n",
    "except Exception as e:\n",
    "    print(\"[Errno {0}] {1}\".format(e.errno, e.strerror))\n",
    "\n",
    "####################################"
   ]
  },
  {
   "cell_type": "code",
   "execution_count": null,
   "metadata": {},
   "outputs": [],
   "source": []
  }
 ],
 "metadata": {
  "kernelspec": {
   "display_name": "Python 3",
   "language": "python",
   "name": "python3"
  },
  "language_info": {
   "codemirror_mode": {
    "name": "ipython",
    "version": 3
   },
   "file_extension": ".py",
   "mimetype": "text/x-python",
   "name": "python",
   "nbconvert_exporter": "python",
   "pygments_lexer": "ipython3",
   "version": "3.7.1"
  }
 },
 "nbformat": 4,
 "nbformat_minor": 2
}
